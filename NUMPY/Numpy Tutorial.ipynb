{
  "nbformat": 4,
  "nbformat_minor": 0,
  "metadata": {
    "colab": {
      "name": "NumpyTutorial.ipynb",
      "provenance": [],
      "collapsed_sections": [],
      "include_colab_link": true
    },
    "kernelspec": {
      "name": "python3",
      "display_name": "Python 3"
    },
    "language_info": {
      "name": "python"
    }
  },
  "cells": [
    {
      "cell_type": "markdown",
      "metadata": {
        "id": "view-in-github",
        "colab_type": "text"
      },
      "source": [
        "<a href=\"https://colab.research.google.com/github/VARAPRASAD24/AI-CLUB/blob/main/NUMPY/Numpy%20Tutorial.ipynb\" target=\"_parent\"><img src=\"https://colab.research.google.com/assets/colab-badge.svg\" alt=\"Open In Colab\"/></a>"
      ]
    },
    {
      "cell_type": "markdown",
      "metadata": {
        "id": "7n55SOeZ5lEf"
      },
      "source": [
        "# ***NUMPY IN DIFFERENT WAYS***"
      ]
    },
    {
      "cell_type": "code",
      "metadata": {
        "id": "fqx_8z_smenh"
      },
      "source": [
        "import numpy as np"
      ],
      "execution_count": 47,
      "outputs": []
    },
    {
      "cell_type": "markdown",
      "metadata": {
        "id": "K2hZGwKz3nSg"
      },
      "source": [
        "**lists**"
      ]
    },
    {
      "cell_type": "code",
      "metadata": {
        "id": "PruwtZqwoVoG",
        "colab": {
          "base_uri": "https://localhost:8080/"
        },
        "outputId": "95595aab-34b5-488d-d63e-56e7e95a50fa"
      },
      "source": [
        "PythonList = [1,10,5,7]\n",
        "print(PythonList)\n"
      ],
      "execution_count": 1,
      "outputs": [
        {
          "output_type": "stream",
          "text": [
            "[1, 10, 5, 7]\n"
          ],
          "name": "stdout"
        }
      ]
    },
    {
      "cell_type": "markdown",
      "metadata": {
        "id": "SQ03hoSE3sTx"
      },
      "source": [
        "**NUMPY**"
      ]
    },
    {
      "cell_type": "code",
      "metadata": {
        "id": "Rb0KF685oX2e",
        "colab": {
          "base_uri": "https://localhost:8080/"
        },
        "outputId": "72cb8317-9284-46da-be28-e32388a63ba5"
      },
      "source": [
        "numpy_array = np.array(PythonList)\n",
        "numpy_array"
      ],
      "execution_count": 6,
      "outputs": [
        {
          "output_type": "execute_result",
          "data": {
            "text/plain": [
              "array([ 1, 10,  5,  7])"
            ]
          },
          "metadata": {
            "tags": []
          },
          "execution_count": 6
        }
      ]
    },
    {
      "cell_type": "code",
      "metadata": {
        "colab": {
          "base_uri": "https://localhost:8080/"
        },
        "id": "Qrxhi8qht0ET",
        "outputId": "2ab2ff3c-b002-40bb-9a6e-534f53302886"
      },
      "source": [
        "a = numpy_array+10\n",
        "print(a)"
      ],
      "execution_count": 10,
      "outputs": [
        {
          "output_type": "stream",
          "text": [
            "[11 20 15 17]\n"
          ],
          "name": "stdout"
        }
      ]
    },
    {
      "cell_type": "code",
      "metadata": {
        "colab": {
          "base_uri": "https://localhost:8080/"
        },
        "id": "30dfhAmJuGb8",
        "outputId": "cd995645-fe60-4175-d6f0-ec23ecd03205"
      },
      "source": [
        "a = np.array([1,5,9])\n",
        "print(a)"
      ],
      "execution_count": 14,
      "outputs": [
        {
          "output_type": "stream",
          "text": [
            "[1 5 9]\n"
          ],
          "name": "stdout"
        }
      ]
    },
    {
      "cell_type": "code",
      "metadata": {
        "colab": {
          "base_uri": "https://localhost:8080/"
        },
        "id": "dtcm0iojuY4B",
        "outputId": "d434dfef-aab8-4315-d4b4-d0eb5f09a9fd"
      },
      "source": [
        "b = a +10\n",
        "print(b)"
      ],
      "execution_count": 16,
      "outputs": [
        {
          "output_type": "stream",
          "text": [
            "[11 15 19]\n"
          ],
          "name": "stdout"
        }
      ]
    },
    {
      "cell_type": "code",
      "metadata": {
        "colab": {
          "base_uri": "https://localhost:8080/"
        },
        "id": "TyiG7OWYufW4",
        "outputId": "a2534892-53e1-4065-d0ab-f48e63a6c573"
      },
      "source": [
        "print(a.shape)\n",
        "print(a.dtype)"
      ],
      "execution_count": 18,
      "outputs": [
        {
          "output_type": "stream",
          "text": [
            "(3,)\n",
            "int64\n"
          ],
          "name": "stdout"
        }
      ]
    },
    {
      "cell_type": "code",
      "metadata": {
        "colab": {
          "base_uri": "https://localhost:8080/"
        },
        "id": "4A7G11m1utuN",
        "outputId": "18f86050-11e7-40ab-8d25-fb77f8971608"
      },
      "source": [
        "c = np.array([(1,5,4,0),\n",
        "              (4,5,3,2)])\n",
        "print(c)"
      ],
      "execution_count": 20,
      "outputs": [
        {
          "output_type": "stream",
          "text": [
            "[[1 5 4 0]\n",
            " [4 5 3 2]]\n"
          ],
          "name": "stdout"
        }
      ]
    },
    {
      "cell_type": "code",
      "metadata": {
        "colab": {
          "base_uri": "https://localhost:8080/"
        },
        "id": "TpKW1f6yvAY0",
        "outputId": "913f7ea9-6e46-46f7-c87c-55d0f267f045"
      },
      "source": [
        "d = np.array([\n",
        "    [[1, 2,3],\n",
        "        [4, 5, 6]],\n",
        "      [[7, 8,9],\n",
        "        [10, 11, 12]]\n",
        "])\n",
        "print(d.shape)"
      ],
      "execution_count": 22,
      "outputs": [
        {
          "output_type": "stream",
          "text": [
            "(2, 2, 3)\n"
          ],
          "name": "stdout"
        }
      ]
    },
    {
      "cell_type": "markdown",
      "metadata": {
        "id": "j2-baU4e33ki"
      },
      "source": [
        "**TO PRINT 3 ROWS 3 COULMNS OF ZEROS**"
      ]
    },
    {
      "cell_type": "code",
      "metadata": {
        "colab": {
          "base_uri": "https://localhost:8080/"
        },
        "id": "kOdYmXXLvcJ0",
        "outputId": "c5c607b5-8586-4734-b0ff-d91e7d179b48"
      },
      "source": [
        "x=np.zeros((3,3), dtype=np.int16)\n",
        "print(x)"
      ],
      "execution_count": 26,
      "outputs": [
        {
          "output_type": "stream",
          "text": [
            "[[0 0 0]\n",
            " [0 0 0]\n",
            " [0 0 0]]\n"
          ],
          "name": "stdout"
        }
      ]
    },
    {
      "cell_type": "markdown",
      "metadata": {
        "id": "VRgCG2jd3-bM"
      },
      "source": [
        "**TO PRINT 3 TIMES OF 2 ROWS 4 COLUMNS OF ONES**"
      ]
    },
    {
      "cell_type": "code",
      "metadata": {
        "colab": {
          "base_uri": "https://localhost:8080/"
        },
        "id": "SswJz5IAx37O",
        "outputId": "a8f8f748-fe60-4101-df6d-bc491906ddd0"
      },
      "source": [
        "y=np.ones((3,2,4), dtype=np.int16)\n",
        "print(y)"
      ],
      "execution_count": 30,
      "outputs": [
        {
          "output_type": "stream",
          "text": [
            "[[[1 1 1 1]\n",
            "  [1 1 1 1]]\n",
            "\n",
            " [[1 1 1 1]\n",
            "  [1 1 1 1]]\n",
            "\n",
            " [[1 1 1 1]\n",
            "  [1 1 1 1]]]\n"
          ],
          "name": "stdout"
        }
      ]
    },
    {
      "cell_type": "markdown",
      "metadata": {
        "id": "lyeguiB54H3m"
      },
      "source": [
        "**RESHAPE TO 1 ELEMENT LISTS**"
      ]
    },
    {
      "cell_type": "code",
      "metadata": {
        "colab": {
          "base_uri": "https://localhost:8080/"
        },
        "id": "-N5Ye8b3x_f6",
        "outputId": "890b2954-5a78-4960-eb29-814dd5dd28c0"
      },
      "source": [
        "e  = np.array([(1,3,5), (7,9,2)])\n",
        "print(e)\n",
        "e.reshape(6,1)"
      ],
      "execution_count": 32,
      "outputs": [
        {
          "output_type": "stream",
          "text": [
            "[[1 3 5]\n",
            " [7 9 2]]\n"
          ],
          "name": "stdout"
        },
        {
          "output_type": "execute_result",
          "data": {
            "text/plain": [
              "array([[1],\n",
              "       [3],\n",
              "       [5],\n",
              "       [7],\n",
              "       [9],\n",
              "       [2]])"
            ]
          },
          "metadata": {
            "tags": []
          },
          "execution_count": 32
        }
      ]
    },
    {
      "cell_type": "code",
      "metadata": {
        "colab": {
          "base_uri": "https://localhost:8080/"
        },
        "id": "Rs37jtZp1kFc",
        "outputId": "0ec512f5-202b-4060-fa5e-1443d7a4b553"
      },
      "source": [
        "print(e)"
      ],
      "execution_count": 34,
      "outputs": [
        {
          "output_type": "stream",
          "text": [
            "[[1 3 5]\n",
            " [7 9 2]]\n"
          ],
          "name": "stdout"
        }
      ]
    },
    {
      "cell_type": "code",
      "metadata": {
        "colab": {
          "base_uri": "https://localhost:8080/"
        },
        "id": "BafQoH6E1p_-",
        "outputId": "15ad9c5f-5bde-4e43-85f8-f7a4fa52baa8"
      },
      "source": [
        "print('First row:', e[0])\n",
        "print('Second row:', e[1])"
      ],
      "execution_count": 37,
      "outputs": [
        {
          "output_type": "stream",
          "text": [
            "First row: [1 3 5]\n",
            "Second row: [7 9 2]\n"
          ],
          "name": "stdout"
        }
      ]
    },
    {
      "cell_type": "code",
      "metadata": {
        "colab": {
          "base_uri": "https://localhost:8080/"
        },
        "id": "_1h9G0Wo1t5q",
        "outputId": "2ffb77b1-98ca-45c8-ded2-2f845829d044"
      },
      "source": [
        "print('Second column:', e[:,1])"
      ],
      "execution_count": 39,
      "outputs": [
        {
          "output_type": "stream",
          "text": [
            "Second column: [3 9]\n"
          ],
          "name": "stdout"
        }
      ]
    },
    {
      "cell_type": "code",
      "metadata": {
        "colab": {
          "base_uri": "https://localhost:8080/"
        },
        "id": "yey885WD1xvk",
        "outputId": "cb01ce4f-6d68-463c-eb58-edb2f19cecb3"
      },
      "source": [
        "print(e[1, :2])"
      ],
      "execution_count": 41,
      "outputs": [
        {
          "output_type": "stream",
          "text": [
            "[7 9]\n"
          ],
          "name": "stdout"
        }
      ]
    },
    {
      "cell_type": "code",
      "metadata": {
        "colab": {
          "base_uri": "https://localhost:8080/"
        },
        "id": "p36FW63ez23w",
        "outputId": "26d6ad54-134d-418d-869b-9bcf4b1e4c48"
      },
      "source": [
        "e.flatten()"
      ],
      "execution_count": 43,
      "outputs": [
        {
          "output_type": "execute_result",
          "data": {
            "text/plain": [
              "array([1, 3, 5, 7, 9, 2])"
            ]
          },
          "metadata": {
            "tags": []
          },
          "execution_count": 43
        }
      ]
    },
    {
      "cell_type": "markdown",
      "metadata": {
        "id": "8iioWnKo4PyG"
      },
      "source": [
        "**HORITONTAL AND VERTICAL STACK**"
      ]
    },
    {
      "cell_type": "code",
      "metadata": {
        "colab": {
          "base_uri": "https://localhost:8080/"
        },
        "id": "XTHppaAzz4Kd",
        "outputId": "55dd4bf6-ba37-49ae-e79e-569c63eaa5e8"
      },
      "source": [
        "f = np.array([1,2,3])\n",
        "g = np.array([4,5,6])\n",
        "\n",
        "print('Horizontal Append:', np.hstack((f, g)))\n",
        "print(\"Vertical append:\")\n",
        "print(np.vstack((f,g)))"
      ],
      "execution_count": null,
      "outputs": [
        {
          "output_type": "stream",
          "text": [
            "Horizontal Append: [1 2 3 4 5 6]\n",
            "Vertical append:\n",
            "[[1 2 3]\n",
            " [4 5 6]]\n"
          ],
          "name": "stdout"
        }
      ]
    },
    {
      "cell_type": "markdown",
      "metadata": {
        "id": "obcikB_H4XKB"
      },
      "source": [
        "**TO FIND A LIST OF RANDOM ELEMENTS**"
      ]
    },
    {
      "cell_type": "code",
      "metadata": {
        "colab": {
          "base_uri": "https://localhost:8080/"
        },
        "id": "UBxVS1Uz0WvZ",
        "outputId": "7bb14054-17a9-44a8-e966-b0684dd0c699"
      },
      "source": [
        "normal_array = np.random.normal(5, 0.5, 10)\n",
        "print(normal_array)"
      ],
      "execution_count": null,
      "outputs": [
        {
          "output_type": "stream",
          "text": [
            "[5.49238728 4.97669106 4.91951323 4.47986859 5.12593923 5.06817926\n",
            " 5.2680344  4.35221261 4.66763552 4.55715104]\n"
          ],
          "name": "stdout"
        }
      ]
    },
    {
      "cell_type": "markdown",
      "metadata": {
        "id": "cjAyVz0t4dBE"
      },
      "source": [
        "**FIND MIN , MAX, MEAN, MEDIAN,STD FROM A LISTS**"
      ]
    },
    {
      "cell_type": "code",
      "metadata": {
        "colab": {
          "base_uri": "https://localhost:8080/"
        },
        "id": "j_Vl4q7e1Yeq",
        "outputId": "8382c793-1d86-4ef6-df1d-73163cddcad4"
      },
      "source": [
        "print(np.min(normal_array))\n",
        "print(np.max(normal_array))\n",
        "print(np.mean(normal_array))\n",
        "print(np.median(normal_array))\n",
        "print(np.std(normal_array))"
      ],
      "execution_count": null,
      "outputs": [
        {
          "output_type": "stream",
          "text": [
            "4.352212613229316\n",
            "5.49238727930963\n",
            "4.8907612207322115\n",
            "4.948102144090097\n",
            "0.34917526053989645\n"
          ],
          "name": "stdout"
        }
      ]
    },
    {
      "cell_type": "markdown",
      "metadata": {
        "id": "K5miTXDc4mwG"
      },
      "source": [
        "**TO PRINT ELEMENTS IN RANGE**"
      ]
    },
    {
      "cell_type": "code",
      "metadata": {
        "colab": {
          "base_uri": "https://localhost:8080/"
        },
        "id": "Lk1F3Glv02FY",
        "outputId": "a6e5eacd-099e-4d1b-e6c5-5111e6b01c0b"
      },
      "source": [
        "np.arange(1, 7)"
      ],
      "execution_count": null,
      "outputs": [
        {
          "output_type": "execute_result",
          "data": {
            "text/plain": [
              "array([1, 2, 3, 4, 5, 6])"
            ]
          },
          "metadata": {
            "tags": []
          },
          "execution_count": 31
        }
      ]
    },
    {
      "cell_type": "code",
      "metadata": {
        "colab": {
          "base_uri": "https://localhost:8080/"
        },
        "id": "UYwhyjzK04n-",
        "outputId": "37defda1-323d-45e8-8397-4631eaa5b52b"
      },
      "source": [
        "np.arange(1, 11,3)"
      ],
      "execution_count": null,
      "outputs": [
        {
          "output_type": "execute_result",
          "data": {
            "text/plain": [
              "array([ 1,  4,  7, 10])"
            ]
          },
          "metadata": {
            "tags": []
          },
          "execution_count": 32
        }
      ]
    },
    {
      "cell_type": "code",
      "metadata": {
        "colab": {
          "base_uri": "https://localhost:8080/"
        },
        "id": "m5Ji8HOW07or",
        "outputId": "b00dc79e-c38a-48e3-e5f5-4a2de3859213"
      },
      "source": [
        "np.linspace(1.0, 10.0, num=20)"
      ],
      "execution_count": null,
      "outputs": [
        {
          "output_type": "execute_result",
          "data": {
            "text/plain": [
              "array([ 1.        ,  1.47368421,  1.94736842,  2.42105263,  2.89473684,\n",
              "        3.36842105,  3.84210526,  4.31578947,  4.78947368,  5.26315789,\n",
              "        5.73684211,  6.21052632,  6.68421053,  7.15789474,  7.63157895,\n",
              "        8.10526316,  8.57894737,  9.05263158,  9.52631579, 10.        ])"
            ]
          },
          "metadata": {
            "tags": []
          },
          "execution_count": 39
        }
      ]
    },
    {
      "cell_type": "code",
      "metadata": {
        "colab": {
          "base_uri": "https://localhost:8080/"
        },
        "id": "P05A5-do2IaH",
        "outputId": "53532889-8edc-4a6d-b9ae-5aab840a73f4"
      },
      "source": [
        "np.linspace(1.0, 5.0, num=5, endpoint=False)"
      ],
      "execution_count": null,
      "outputs": [
        {
          "output_type": "execute_result",
          "data": {
            "text/plain": [
              "array([1. , 1.8, 2.6, 3.4, 4.2])"
            ]
          },
          "metadata": {
            "tags": []
          },
          "execution_count": 41
        }
      ]
    },
    {
      "cell_type": "code",
      "metadata": {
        "colab": {
          "base_uri": "https://localhost:8080/"
        },
        "id": "TjEFnC111-y9",
        "outputId": "c558926f-faea-49a7-c2f2-76976bddffa4"
      },
      "source": [
        "np.logspace(3.0, 4.0, num=4)"
      ],
      "execution_count": null,
      "outputs": [
        {
          "output_type": "execute_result",
          "data": {
            "text/plain": [
              "array([ 1000.        ,  2154.43469003,  4641.58883361, 10000.        ])"
            ]
          },
          "metadata": {
            "tags": []
          },
          "execution_count": 40
        }
      ]
    },
    {
      "cell_type": "code",
      "metadata": {
        "colab": {
          "base_uri": "https://localhost:8080/"
        },
        "id": "1laU6VsR2D_j",
        "outputId": "5c2b33f3-ad71-407a-a33b-8bdb84b49b49"
      },
      "source": [
        "x = np.array([1,2,3], dtype=np.complex128)\n",
        "x.itemsize"
      ],
      "execution_count": null,
      "outputs": [
        {
          "output_type": "execute_result",
          "data": {
            "text/plain": [
              "16"
            ]
          },
          "metadata": {
            "tags": []
          },
          "execution_count": 42
        }
      ]
    },
    {
      "cell_type": "markdown",
      "metadata": {
        "id": "5VSNSDdX4vut"
      },
      "source": [
        "**TO FIND DOT PRODUCT OF MATRIX**"
      ]
    },
    {
      "cell_type": "code",
      "metadata": {
        "colab": {
          "base_uri": "https://localhost:8080/"
        },
        "id": "Pf3Ee-Pd2OHT",
        "outputId": "42a306f2-d3e5-4557-ebc1-88f9fd6f3fcb"
      },
      "source": [
        "f = np.array([1,2,3])\n",
        "g = np.array([4,5,1])\n",
        "### 1*4+2*5+3*1\n",
        "np.dot(f, g)"
      ],
      "execution_count": null,
      "outputs": [
        {
          "output_type": "execute_result",
          "data": {
            "text/plain": [
              "17"
            ]
          },
          "metadata": {
            "tags": []
          },
          "execution_count": 43
        }
      ]
    },
    {
      "cell_type": "markdown",
      "metadata": {
        "id": "UZ9EhRH441TF"
      },
      "source": [
        "**TO FIND THE INVERSE OF MATRIX**"
      ]
    },
    {
      "cell_type": "code",
      "metadata": {
        "colab": {
          "base_uri": "https://localhost:8080/"
        },
        "id": "eld_pbLr2Z2Z",
        "outputId": "fa265f01-8a83-4b5f-c094-586bda97e374"
      },
      "source": [
        "A = np.array([[6, 1, 1],\n",
        "              [4, -2, 5],\n",
        "              [2, 8, 7]])\n",
        "  \n",
        "# Calculating the inverse of the matrix\n",
        "print(np.linalg.inv(A))"
      ],
      "execution_count": null,
      "outputs": [
        {
          "output_type": "stream",
          "text": [
            "[[ 0.17647059 -0.00326797 -0.02287582]\n",
            " [ 0.05882353 -0.13071895  0.08496732]\n",
            " [-0.11764706  0.1503268   0.05228758]]\n"
          ],
          "name": "stdout"
        }
      ]
    },
    {
      "cell_type": "markdown",
      "metadata": {
        "id": "Dsui4zwQ457u"
      },
      "source": [
        "**TO FIND THE MATRIX MULTIPLICATION**"
      ]
    },
    {
      "cell_type": "code",
      "metadata": {
        "colab": {
          "base_uri": "https://localhost:8080/"
        },
        "id": "jjajtu18207y",
        "outputId": "2dd8eb53-741f-419d-cbc3-abd34f8a959f"
      },
      "source": [
        "h = [[1,2],[3,4]] \n",
        "i = [[5,6],[7,8]] \n",
        "### 1*5+2*7 = 19\n",
        "np.matmul(h, i)"
      ],
      "execution_count": null,
      "outputs": [
        {
          "output_type": "execute_result",
          "data": {
            "text/plain": [
              "array([[19, 22],\n",
              "       [43, 50]])"
            ]
          },
          "metadata": {
            "tags": []
          },
          "execution_count": 45
        }
      ]
    },
    {
      "cell_type": "markdown",
      "metadata": {
        "id": "8a9rJ9t55A-B"
      },
      "source": [
        "**TO FIND THE DETERMINANT OF MATRIX**"
      ]
    },
    {
      "cell_type": "code",
      "metadata": {
        "colab": {
          "base_uri": "https://localhost:8080/"
        },
        "id": "LiHKRI-83Fj7",
        "outputId": "a0e61a9f-56b7-4506-c5ce-fcaaa4809641"
      },
      "source": [
        "n_array = np.array([[50, 29], [30, 44]])\n",
        "  \n",
        "# Displaying the Matrix\n",
        "print(\"Numpy Matrix is:\")\n",
        "print(n_array)\n",
        "  \n",
        "# calculating the determinant of matrix\n",
        "det = np.linalg.det(n_array)\n",
        "  \n",
        "print(\"\\nDeterminant of given 2X2 matrix:\")\n",
        "print(int(det))"
      ],
      "execution_count": null,
      "outputs": [
        {
          "output_type": "stream",
          "text": [
            "Numpy Matrix is:\n",
            "[[50 29]\n",
            " [30 44]]\n",
            "\n",
            "Determinant of given 2X2 matrix:\n",
            "1330\n"
          ],
          "name": "stdout"
        }
      ]
    },
    {
      "cell_type": "markdown",
      "metadata": {
        "id": "Gjk8wFcY5IqW"
      },
      "source": [
        "**TO FIND THE RANK OF MATRIX**"
      ]
    },
    {
      "cell_type": "code",
      "metadata": {
        "colab": {
          "base_uri": "https://localhost:8080/"
        },
        "id": "OxgyBprm3IOs",
        "outputId": "9f218a46-5d78-4b82-993a-0dce19b0e178"
      },
      "source": [
        "mx = np.array([[1,1,1],[0,1,2],[1,5,3]])\n",
        "\n",
        "# Let's get rank of matrix \n",
        "np.linalg.matrix_rank(mx)"
      ],
      "execution_count": null,
      "outputs": [
        {
          "output_type": "execute_result",
          "data": {
            "text/plain": [
              "3"
            ]
          },
          "metadata": {
            "tags": []
          },
          "execution_count": 47
        }
      ]
    },
    {
      "cell_type": "markdown",
      "metadata": {
        "id": "4pu7JLtC5OAY"
      },
      "source": [
        "**TO FIND THE TRANSPOSE OF THE MATRIX**"
      ]
    },
    {
      "cell_type": "code",
      "metadata": {
        "colab": {
          "base_uri": "https://localhost:8080/"
        },
        "id": "kpXqgRjR3SFs",
        "outputId": "07beab0b-d1fe-47a9-f632-03576201f928"
      },
      "source": [
        "gfg = np.matrix('[4, 1; 12, 3]')\n",
        "              \n",
        "# applying matrix.transpose() method\n",
        "trans = gfg.transpose()\n",
        "    \n",
        "print(trans)"
      ],
      "execution_count": null,
      "outputs": [
        {
          "output_type": "stream",
          "text": [
            "[[ 4 12]\n",
            " [ 1  3]]\n"
          ],
          "name": "stdout"
        }
      ]
    },
    {
      "cell_type": "markdown",
      "metadata": {
        "id": "Trt5CjWh5S45"
      },
      "source": [
        "**TO FIND THE TRACE OF MATRIX**"
      ]
    },
    {
      "cell_type": "code",
      "metadata": {
        "colab": {
          "base_uri": "https://localhost:8080/"
        },
        "id": "NNAUXF623Sx4",
        "outputId": "e3c533b9-c381-4feb-ceb7-9c06bb5ffc39"
      },
      "source": [
        "gfg = np.matrix('[7, 1; 14, 3]')\n",
        "              \n",
        "# applying matrix.trace() method\n",
        "tracem = gfg.trace()\n",
        "    \n",
        "print(tracem)"
      ],
      "execution_count": 48,
      "outputs": [
        {
          "output_type": "stream",
          "text": [
            "[[10]]\n"
          ],
          "name": "stdout"
        }
      ]
    },
    {
      "cell_type": "markdown",
      "metadata": {
        "id": "XwZkS-au5Y9X"
      },
      "source": [
        "**TO FIND THE EIGEN VALUES AND EIGEN VECTORS OF MATRIX**"
      ]
    },
    {
      "cell_type": "code",
      "metadata": {
        "colab": {
          "base_uri": "https://localhost:8080/"
        },
        "id": "1NhH-e7p3WjA",
        "outputId": "9dff34c1-caa6-4c32-f976-8564874d1cdb"
      },
      "source": [
        "example_matrix = np.array([\n",
        "  [1,2,7,0],\n",
        "  [5,13,7,8],\n",
        "  [5,13,11,12],\n",
        "  [13,17,15,18]\n",
        "])\n",
        "eigenvalues, eigenvectors = np.linalg.eig(example_matrix)\n",
        "print(eigenvalues, eigenvectors)"
      ],
      "execution_count": 45,
      "outputs": [
        {
          "output_type": "stream",
          "text": [
            "[3.92109734e+01+0.j        6.98988367e-03+4.0466969j\n",
            " 6.98988367e-03-4.0466969j 3.77504683e+00+0.j       ] [[-0.11564324+0.j         -0.72987642+0.j         -0.72987642-0.j\n",
            "  -0.01858862+0.j        ]\n",
            " [-0.39014175+0.j          0.05870874-0.0305819j   0.05870874+0.0305819j\n",
            "  -0.71828564+0.j        ]\n",
            " [-0.51979388+0.j          0.08676531-0.41320355j  0.08676531+0.41320355j\n",
            "   0.19785528+0.j        ]\n",
            " [-0.7511527 +0.j          0.30037217+0.44091904j  0.30037217-0.44091904j\n",
            "   0.66676344+0.j        ]]\n"
          ],
          "name": "stdout"
        }
      ]
    }
  ]
}